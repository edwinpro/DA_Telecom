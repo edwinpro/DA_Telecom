{
 "cells": [
  {
   "cell_type": "markdown",
   "metadata": {},
   "source": [
    "# ETL: Extracción\n",
    "Extración de datos desde los archivos csv seleccionados para nuestro análisis:\n",
    "- Internet_Accesos-por-tecnologia.csv\n",
    "- Internet_Accesos-por-velocidad.csv\n",
    "- Internet_BAF.csv\n",
    "- Internet_Penetracion.csv\n",
    "- historico_velocidad_internet.csv"
   ]
  },
  {
   "cell_type": "code",
   "execution_count": 13,
   "metadata": {},
   "outputs": [],
   "source": [
    "# Bibliotecas necesarias\n",
    "import pandas as pd"
   ]
  },
  {
   "cell_type": "code",
   "execution_count": 14,
   "metadata": {},
   "outputs": [],
   "source": [
    "# Leer el archivo 'Internet_Accesos-por-tecnologia.csv' utilizando pandas y asignarlo a un dataframe\n",
    "internet_accesos_por_tecnologia = pd.read_csv('../Datasets/Internet_Accesos-por-tecnologia.csv', delimiter=';')\n",
    "\n",
    "# Leer el archivo 'Internet_Accesos-por-velocidad.csv' utilizando pandas y asignarlo a un dataframe\n",
    "internet_accesos_por_velocidad = pd.read_csv('../Datasets/Internet_Accesos-por-velocidad.csv', delimiter=';')\n",
    "\n",
    "# Leer el archivo 'Internet_BAF.csv' utilizando pandas y asignarlo a un dataframe\n",
    "internet_baf = pd.read_csv('../Datasets/Internet_BAF.csv')\n",
    "\n",
    "# Leer el archivo 'Internet_Penetracion.csv' utilizando pandas y asignarlo a un dataframe\n",
    "internet_penetracion = pd.read_csv('../Datasets/Internet_Penetracion.csv')\n",
    "\n",
    "# Leer el archivo 'historico_velocidad_internet.csv' utilizando pandas y asignarlo a un dataframe\n",
    "historico_velocidad_internet = pd.read_csv('../Datasets/historico_velocidad_internet.csv')"
   ]
  },
  {
   "cell_type": "markdown",
   "metadata": {},
   "source": [
    "# ETL: Transformación\n",
    "Hacemos un JOIN con todos los datasets, tomando como referencia las columnas 'Año', 'Trimestre' y 'Provincia'"
   ]
  },
  {
   "cell_type": "code",
   "execution_count": 15,
   "metadata": {},
   "outputs": [],
   "source": [
    "\n",
    "merged_df = internet_accesos_por_tecnologia.merge(internet_penetracion, on=['Año', 'Trimestre', 'Provincia'])\n",
    "merged_df = merged_df.merge(internet_baf, on=['Año', 'Trimestre', 'Provincia'])\n",
    "merged_df = merged_df.merge(internet_accesos_por_velocidad, on=['Año', 'Trimestre', 'Provincia'])\n",
    "merged_df = merged_df.merge(historico_velocidad_internet, on=['Año', 'Trimestre', 'Provincia'])\n"
   ]
  },
  {
   "cell_type": "code",
   "execution_count": 16,
   "metadata": {},
   "outputs": [
    {
     "name": "stdout",
     "output_type": "stream",
     "text": [
      "<class 'pandas.core.frame.DataFrame'>\n",
      "RangeIndex: 864 entries, 0 to 863\n",
      "Data columns (total 26 columns):\n",
      " #   Column                        Non-Null Count  Dtype  \n",
      "---  ------                        --------------  -----  \n",
      " 0   Año                           864 non-null    int64  \n",
      " 1   Trimestre                     864 non-null    int64  \n",
      " 2   Provincia                     864 non-null    object \n",
      " 3   ADSL                          864 non-null    int64  \n",
      " 4   Cablemodem                    864 non-null    int64  \n",
      " 5   Fibra óptica                  864 non-null    int64  \n",
      " 6   Wireless                      864 non-null    int64  \n",
      " 7   Otros                         864 non-null    int64  \n",
      " 8   Total_x                       864 non-null    int64  \n",
      " 9   Accesos por cada 100 hogares  864 non-null    object \n",
      " 10  Unnamed: 4                    0 non-null      float64\n",
      " 11  Unnamed: 5                    0 non-null      float64\n",
      " 12  Unnamed: 6                    0 non-null      float64\n",
      " 13  Banda ancha fija              864 non-null    int64  \n",
      " 14  Dial up                       862 non-null    float64\n",
      " 15  Total_y                       864 non-null    int64  \n",
      " 16  HASTA 512 kbps                864 non-null    float64\n",
      " 17  + 512 Kbps - 1 Mbps           864 non-null    float64\n",
      " 18  + 1 Mbps - 6 Mbps             864 non-null    float64\n",
      " 19  + 6 Mbps - 10 Mbps            864 non-null    float64\n",
      " 20  + 10 Mbps - 20 Mbps           864 non-null    float64\n",
      " 21  + 20 Mbps - 30 Mbps           864 non-null    float64\n",
      " 22  + 30 Mbps                     864 non-null    float64\n",
      " 23  OTROS                         858 non-null    float64\n",
      " 24  TOTAL                         864 non-null    float64\n",
      " 25  Mbps (Media de bajada)        864 non-null    float64\n",
      "dtypes: float64(14), int64(10), object(2)\n",
      "memory usage: 175.6+ KB\n"
     ]
    }
   ],
   "source": [
    "merged_df.info()"
   ]
  },
  {
   "cell_type": "markdown",
   "metadata": {},
   "source": [
    "Eliminamos las columnas de totales al ser columnas calculadas de las que podemos prescindir: 'Total_x','Total_y','TOTAL'<br>\n",
    "Igualmente aquellas columnas que contienen valores nulos en todos los registros: 'Unnamed: 4', 'Unnamed: 5', 'Unnamed: 6'"
   ]
  },
  {
   "cell_type": "code",
   "execution_count": 17,
   "metadata": {},
   "outputs": [],
   "source": [
    "merged_df = merged_df.drop(['Total_x','Total_y','TOTAL','Unnamed: 4', 'Unnamed: 5', 'Unnamed: 6'], axis=1)"
   ]
  },
  {
   "cell_type": "code",
   "execution_count": 18,
   "metadata": {},
   "outputs": [
    {
     "name": "stdout",
     "output_type": "stream",
     "text": [
      "<class 'pandas.core.frame.DataFrame'>\n",
      "RangeIndex: 864 entries, 0 to 863\n",
      "Data columns (total 20 columns):\n",
      " #   Column                        Non-Null Count  Dtype  \n",
      "---  ------                        --------------  -----  \n",
      " 0   Año                           864 non-null    int64  \n",
      " 1   Trimestre                     864 non-null    int64  \n",
      " 2   Provincia                     864 non-null    object \n",
      " 3   ADSL                          864 non-null    int64  \n",
      " 4   Cablemodem                    864 non-null    int64  \n",
      " 5   Fibra óptica                  864 non-null    int64  \n",
      " 6   Wireless                      864 non-null    int64  \n",
      " 7   Otros                         864 non-null    int64  \n",
      " 8   Accesos por cada 100 hogares  864 non-null    object \n",
      " 9   Banda ancha fija              864 non-null    int64  \n",
      " 10  Dial up                       862 non-null    float64\n",
      " 11  HASTA 512 kbps                864 non-null    float64\n",
      " 12  + 512 Kbps - 1 Mbps           864 non-null    float64\n",
      " 13  + 1 Mbps - 6 Mbps             864 non-null    float64\n",
      " 14  + 6 Mbps - 10 Mbps            864 non-null    float64\n",
      " 15  + 10 Mbps - 20 Mbps           864 non-null    float64\n",
      " 16  + 20 Mbps - 30 Mbps           864 non-null    float64\n",
      " 17  + 30 Mbps                     864 non-null    float64\n",
      " 18  OTROS                         858 non-null    float64\n",
      " 19  Mbps (Media de bajada)        864 non-null    float64\n",
      "dtypes: float64(10), int64(8), object(2)\n",
      "memory usage: 135.1+ KB\n"
     ]
    }
   ],
   "source": [
    "merged_df.info()"
   ]
  },
  {
   "cell_type": "markdown",
   "metadata": {},
   "source": [
    "Renombramos algunas columnas de acuerdo a la nomenclatura 'Snake Case' para facilitar su entendimiento, tal como se viene utilizando en el código."
   ]
  },
  {
   "cell_type": "code",
   "execution_count": 19,
   "metadata": {},
   "outputs": [],
   "source": [
    "# Renombramos la columna 'año' para evitar inconvenientes con algunas librerias que utilizaremos mas adelante\n",
    "merged_df = merged_df.rename(columns={'Año': 'Anio'})\n",
    "\n",
    "merged_df = merged_df.rename(columns={'Fibra óptica': 'fibra_optica'})\n",
    "merged_df = merged_df.rename(columns={'Otros': 'otras_tecnologias'})\n",
    "\n",
    "merged_df = merged_df.rename(columns={'Accesos por cada 100 hogares': 'accesos_hogares'})\n",
    "merged_df = merged_df.rename(columns={'Banda ancha fija': 'banda_ancha'})\n",
    "merged_df = merged_df.rename(columns={'Dial up': 'dial_up'})\n",
    "merged_df = merged_df.rename(columns={'HASTA 512 kbps': 'velocidad_512kpbs'})\n",
    "merged_df = merged_df.rename(columns={'+ 512 Kbps - 1 Mbps': 'velocidad_1Mbps'})\n",
    "merged_df = merged_df.rename(columns={'+ 1 Mbps - 6 Mbps': 'velocidad_6Mbps'})\n",
    "merged_df = merged_df.rename(columns={'+ 6 Mbps - 10 Mbps': 'velocidad_10Mbps'})\n",
    "merged_df = merged_df.rename(columns={'+ 10 Mbps - 20 Mbps': 'velocidad_20Mbps'})\n",
    "merged_df = merged_df.rename(columns={'+ 20 Mbps - 30 Mbps': 'velocidad_30Mbps'})\n",
    "merged_df = merged_df.rename(columns={'+ 30 Mbps': 'velocidad_mas30Mbps'})\n",
    "merged_df = merged_df.rename(columns={'OTROS': 'velocidad_otros'})\n",
    "\n",
    "merged_df = merged_df.rename(columns={'Mbps (Media de bajada)': 'velocidad_bajada'})"
   ]
  },
  {
   "cell_type": "code",
   "execution_count": 20,
   "metadata": {},
   "outputs": [
    {
     "name": "stdout",
     "output_type": "stream",
     "text": [
      "<class 'pandas.core.frame.DataFrame'>\n",
      "RangeIndex: 864 entries, 0 to 863\n",
      "Data columns (total 20 columns):\n",
      " #   Column               Non-Null Count  Dtype  \n",
      "---  ------               --------------  -----  \n",
      " 0   Anio                 864 non-null    int64  \n",
      " 1   Trimestre            864 non-null    int64  \n",
      " 2   Provincia            864 non-null    object \n",
      " 3   ADSL                 864 non-null    int64  \n",
      " 4   Cablemodem           864 non-null    int64  \n",
      " 5   fibra_optica         864 non-null    int64  \n",
      " 6   Wireless             864 non-null    int64  \n",
      " 7   otras_tecnologias    864 non-null    int64  \n",
      " 8   accesos_hogares      864 non-null    object \n",
      " 9   banda_ancha          864 non-null    int64  \n",
      " 10  dial_up              862 non-null    float64\n",
      " 11  velocidad_512kpbs    864 non-null    float64\n",
      " 12  velocidad_1Mbps      864 non-null    float64\n",
      " 13  velocidad_6Mbps      864 non-null    float64\n",
      " 14  velocidad_10Mbps     864 non-null    float64\n",
      " 15  velocidad_20Mbps     864 non-null    float64\n",
      " 16  velocidad_30Mbps     864 non-null    float64\n",
      " 17  velocidad_mas30Mbps  864 non-null    float64\n",
      " 18  velocidad_otros      858 non-null    float64\n",
      " 19  velocidad_bajada     864 non-null    float64\n",
      "dtypes: float64(10), int64(8), object(2)\n",
      "memory usage: 135.1+ KB\n"
     ]
    }
   ],
   "source": [
    "merged_df.info()"
   ]
  },
  {
   "cell_type": "markdown",
   "metadata": {},
   "source": [
    "Observamos que la columna 'Provincia' es de tipo categirco, por lo que procedemos a convertirlo a tipo categorico"
   ]
  },
  {
   "cell_type": "code",
   "execution_count": 21,
   "metadata": {},
   "outputs": [],
   "source": [
    "# Convertir la columna 'Provincia' a tipo categórico\n",
    "merged_df['Provincia'] = merged_df['Provincia'].astype('category')"
   ]
  },
  {
   "cell_type": "markdown",
   "metadata": {},
   "source": [
    "Convertir la columna 'Accesos por cada 100 hogares' a tipo de datos numérico"
   ]
  },
  {
   "cell_type": "code",
   "execution_count": 22,
   "metadata": {},
   "outputs": [],
   "source": [
    "# Convertir la columna 'Accesos por cada 100 hogares' a tipo de datos numérico\n",
    "merged_df['accesos_hogares'] = merged_df['accesos_hogares'].str.replace(',', '').astype('int64')"
   ]
  },
  {
   "cell_type": "code",
   "execution_count": 23,
   "metadata": {},
   "outputs": [
    {
     "name": "stdout",
     "output_type": "stream",
     "text": [
      "<class 'pandas.core.frame.DataFrame'>\n",
      "RangeIndex: 864 entries, 0 to 863\n",
      "Data columns (total 20 columns):\n",
      " #   Column               Non-Null Count  Dtype   \n",
      "---  ------               --------------  -----   \n",
      " 0   Anio                 864 non-null    int64   \n",
      " 1   Trimestre            864 non-null    int64   \n",
      " 2   Provincia            864 non-null    category\n",
      " 3   ADSL                 864 non-null    int64   \n",
      " 4   Cablemodem           864 non-null    int64   \n",
      " 5   fibra_optica         864 non-null    int64   \n",
      " 6   Wireless             864 non-null    int64   \n",
      " 7   otras_tecnologias    864 non-null    int64   \n",
      " 8   accesos_hogares      864 non-null    int64   \n",
      " 9   banda_ancha          864 non-null    int64   \n",
      " 10  dial_up              862 non-null    float64 \n",
      " 11  velocidad_512kpbs    864 non-null    float64 \n",
      " 12  velocidad_1Mbps      864 non-null    float64 \n",
      " 13  velocidad_6Mbps      864 non-null    float64 \n",
      " 14  velocidad_10Mbps     864 non-null    float64 \n",
      " 15  velocidad_20Mbps     864 non-null    float64 \n",
      " 16  velocidad_30Mbps     864 non-null    float64 \n",
      " 17  velocidad_mas30Mbps  864 non-null    float64 \n",
      " 18  velocidad_otros      858 non-null    float64 \n",
      " 19  velocidad_bajada     864 non-null    float64 \n",
      "dtypes: category(1), float64(10), int64(9)\n",
      "memory usage: 130.0 KB\n"
     ]
    }
   ],
   "source": [
    "merged_df.info()"
   ]
  },
  {
   "cell_type": "markdown",
   "metadata": {},
   "source": [
    "# ETL: Carga\n",
    "Cargamos el dataset resultante al archivo 'Internet_limpio.csv' para su posterior análisis."
   ]
  },
  {
   "cell_type": "code",
   "execution_count": 24,
   "metadata": {},
   "outputs": [],
   "source": [
    "# Exportar el dataframe 'merged_df' a un archivo CSV\n",
    "merged_df.to_csv('../Datasets/Internet_limpio.csv', index=False)\n"
   ]
  }
 ],
 "metadata": {
  "kernelspec": {
   "display_name": "SoyHenry",
   "language": "python",
   "name": "python3"
  },
  "language_info": {
   "codemirror_mode": {
    "name": "ipython",
    "version": 3
   },
   "file_extension": ".py",
   "mimetype": "text/x-python",
   "name": "python",
   "nbconvert_exporter": "python",
   "pygments_lexer": "ipython3",
   "version": "3.11.5"
  }
 },
 "nbformat": 4,
 "nbformat_minor": 2
}
